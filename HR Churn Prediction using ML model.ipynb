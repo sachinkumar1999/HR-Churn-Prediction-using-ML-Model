{
 "cells": [
  {
   "cell_type": "markdown",
   "metadata": {},
   "source": [
    "# HR CHURN PREDICTION"
   ]
  },
  {
   "cell_type": "markdown",
   "metadata": {},
   "source": [
    "Case study:\n",
    "There is an ever increase in focus of effective requirement. An organization invest a \n",
    "lot of time and resources in search of potential candidates. The investment become \n",
    "loses if the selected candidate do not join organization in the end.\n",
    "Challenges:\n",
    "➢ Recruiter need to understand the chances of candidate of joining the \n",
    "organization.\n",
    "➢ There are numerous factors for which the candidate can backout of the job.\n",
    "➢ Confidential data cannot be obtained.\n",
    "Research:\n",
    "The variables collected were as follows:\n",
    "1. Candidate reference number \n",
    "   Unique number to identify the candidate\n",
    "   \n",
    "2. DOJ extended\n",
    "   Binary variable identifying whether candidate asked for date of joining extension (Yes/No)\n",
    " \n",
    "3. Duration to accept the offer\n",
    "   Number of days taken by the candidate to accept the offer (continuous variable)\n",
    " \n",
    "4. Notice period\n",
    "   Notice period to be served in the parting company before candidate can join this company (continuous variable)\n",
    " \n",
    "5. Offered band \n",
    "   Band offered to the candidate based on experience and performance in interview rounds (categorical variable labelled            C0/C1/C2)\n",
    " \n",
    "6. Percentage hike expected\n",
    "   Percentage hike expected by the candidate (continuous variable)\n",
    " \n",
    "7. Percentage hike offered \n",
    "   Percentage hike offered by the company (continuous variable)\n",
    " \n",
    "8. Percentage difference\n",
    "   Difference of hike offered and hike expected is considered\n",
    " \n",
    "9. Joining bonus\n",
    "   Binary variable indicating if joining bonus was given or not (Yes/No)\n",
    " \n",
    "10.Gender\n",
    "   Gender of the candidate (Male/Female)\n",
    " \n",
    "11.Candidate source\n",
    "   Source from which resume of the candidate was obtained (categorical variables with categories: Employee referral/Agency/Direct)\n",
    " \n",
    "12.Year of experience (in years)\n",
    "   Relevant years of experience of the candidate for the position offered (continuous variable)\n",
    " \n",
    "13.LOB\n",
    "   Line of business for which offer was rolled out (categorical variable)\n",
    " \n",
    "14.DOB\n",
    "   Date of birth of the candidate\n",
    " \n",
    "15.Joining location\n",
    "   Company location for which offer was rolled out for candidate to join (categorical variable)\n",
    " \n",
    "16.Candidate relocation status\n",
    "   Binary variable indicating whether candidate has to relocate from one city to another city for joining (Yes/No)\n",
    " \n",
    "17.HR status\n",
    "   Final joining status of candidate (Joined/Not-Joined)\n"
   ]
  },
  {
   "cell_type": "markdown",
   "metadata": {},
   "source": [
    "Dataset:\n",
    "Dataset is named as “HR_Data”, It consists of 18 columns and 8998 rows in the \n",
    "dataset"
   ]
  },
  {
   "cell_type": "markdown",
   "metadata": {},
   "source": [
    "# Importing the data set"
   ]
  },
  {
   "cell_type": "code",
   "execution_count": 1,
   "metadata": {},
   "outputs": [],
   "source": [
    "import numpy as np\n",
    "import pandas as pd"
   ]
  },
  {
   "cell_type": "code",
   "execution_count": 2,
   "metadata": {},
   "outputs": [],
   "source": [
    "import matplotlib.pyplot as plt\n",
    "import seaborn as sns\n",
    "%matplotlib inline"
   ]
  },
  {
   "cell_type": "code",
   "execution_count": 3,
   "metadata": {},
   "outputs": [],
   "source": [
    "df = pd.read_csv(\"HR_DATA.csv\")"
   ]
  },
  {
   "cell_type": "code",
   "execution_count": 4,
   "metadata": {},
   "outputs": [
    {
     "data": {
      "text/html": [
       "<div>\n",
       "<style scoped>\n",
       "    .dataframe tbody tr th:only-of-type {\n",
       "        vertical-align: middle;\n",
       "    }\n",
       "\n",
       "    .dataframe tbody tr th {\n",
       "        vertical-align: top;\n",
       "    }\n",
       "\n",
       "    .dataframe thead th {\n",
       "        text-align: right;\n",
       "    }\n",
       "</style>\n",
       "<table border=\"1\" class=\"dataframe\">\n",
       "  <thead>\n",
       "    <tr style=\"text-align: right;\">\n",
       "      <th></th>\n",
       "      <th>SLNO</th>\n",
       "      <th>Candidate.Ref</th>\n",
       "      <th>DOJ.Extended</th>\n",
       "      <th>Duration.to.accept.offer</th>\n",
       "      <th>Notice.period</th>\n",
       "      <th>Offered.band</th>\n",
       "      <th>Pecent.hike.expected.in.CTC</th>\n",
       "      <th>Percent.hike.offered.in.CTC</th>\n",
       "      <th>Percent.difference.CTC</th>\n",
       "      <th>Joining.Bonus</th>\n",
       "      <th>Candidate.relocate.actual</th>\n",
       "      <th>Gender</th>\n",
       "      <th>Candidate.Source</th>\n",
       "      <th>Rex.in.Yrs</th>\n",
       "      <th>LOB</th>\n",
       "      <th>Location</th>\n",
       "      <th>Age</th>\n",
       "      <th>Status</th>\n",
       "    </tr>\n",
       "  </thead>\n",
       "  <tbody>\n",
       "    <tr>\n",
       "      <th>0</th>\n",
       "      <td>1</td>\n",
       "      <td>2110407</td>\n",
       "      <td>Yes</td>\n",
       "      <td>14</td>\n",
       "      <td>30</td>\n",
       "      <td>E2</td>\n",
       "      <td>-20.79</td>\n",
       "      <td>13.16</td>\n",
       "      <td>42.86</td>\n",
       "      <td>No</td>\n",
       "      <td>No</td>\n",
       "      <td>Female</td>\n",
       "      <td>Agency</td>\n",
       "      <td>7</td>\n",
       "      <td>ERS</td>\n",
       "      <td>Noida</td>\n",
       "      <td>34</td>\n",
       "      <td>Joined</td>\n",
       "    </tr>\n",
       "    <tr>\n",
       "      <th>1</th>\n",
       "      <td>2</td>\n",
       "      <td>2112635</td>\n",
       "      <td>No</td>\n",
       "      <td>18</td>\n",
       "      <td>30</td>\n",
       "      <td>E2</td>\n",
       "      <td>50.00</td>\n",
       "      <td>320.00</td>\n",
       "      <td>180.00</td>\n",
       "      <td>No</td>\n",
       "      <td>No</td>\n",
       "      <td>Male</td>\n",
       "      <td>Employee Referral</td>\n",
       "      <td>8</td>\n",
       "      <td>INFRA</td>\n",
       "      <td>Chennai</td>\n",
       "      <td>34</td>\n",
       "      <td>Joined</td>\n",
       "    </tr>\n",
       "    <tr>\n",
       "      <th>2</th>\n",
       "      <td>3</td>\n",
       "      <td>2112838</td>\n",
       "      <td>No</td>\n",
       "      <td>3</td>\n",
       "      <td>45</td>\n",
       "      <td>E2</td>\n",
       "      <td>42.84</td>\n",
       "      <td>42.84</td>\n",
       "      <td>0.00</td>\n",
       "      <td>No</td>\n",
       "      <td>No</td>\n",
       "      <td>Male</td>\n",
       "      <td>Agency</td>\n",
       "      <td>4</td>\n",
       "      <td>INFRA</td>\n",
       "      <td>Noida</td>\n",
       "      <td>27</td>\n",
       "      <td>Joined</td>\n",
       "    </tr>\n",
       "    <tr>\n",
       "      <th>3</th>\n",
       "      <td>4</td>\n",
       "      <td>2115021</td>\n",
       "      <td>No</td>\n",
       "      <td>26</td>\n",
       "      <td>30</td>\n",
       "      <td>E2</td>\n",
       "      <td>42.84</td>\n",
       "      <td>42.84</td>\n",
       "      <td>0.00</td>\n",
       "      <td>No</td>\n",
       "      <td>No</td>\n",
       "      <td>Male</td>\n",
       "      <td>Employee Referral</td>\n",
       "      <td>4</td>\n",
       "      <td>INFRA</td>\n",
       "      <td>Noida</td>\n",
       "      <td>34</td>\n",
       "      <td>Joined</td>\n",
       "    </tr>\n",
       "    <tr>\n",
       "      <th>4</th>\n",
       "      <td>5</td>\n",
       "      <td>2115125</td>\n",
       "      <td>Yes</td>\n",
       "      <td>1</td>\n",
       "      <td>120</td>\n",
       "      <td>E2</td>\n",
       "      <td>42.59</td>\n",
       "      <td>42.59</td>\n",
       "      <td>0.00</td>\n",
       "      <td>No</td>\n",
       "      <td>Yes</td>\n",
       "      <td>Male</td>\n",
       "      <td>Employee Referral</td>\n",
       "      <td>6</td>\n",
       "      <td>INFRA</td>\n",
       "      <td>Noida</td>\n",
       "      <td>34</td>\n",
       "      <td>Joined</td>\n",
       "    </tr>\n",
       "  </tbody>\n",
       "</table>\n",
       "</div>"
      ],
      "text/plain": [
       "   SLNO  Candidate.Ref DOJ.Extended  Duration.to.accept.offer  Notice.period  \\\n",
       "0     1        2110407          Yes                        14             30   \n",
       "1     2        2112635           No                        18             30   \n",
       "2     3        2112838           No                         3             45   \n",
       "3     4        2115021           No                        26             30   \n",
       "4     5        2115125          Yes                         1            120   \n",
       "\n",
       "  Offered.band  Pecent.hike.expected.in.CTC  Percent.hike.offered.in.CTC  \\\n",
       "0           E2                       -20.79                        13.16   \n",
       "1           E2                        50.00                       320.00   \n",
       "2           E2                        42.84                        42.84   \n",
       "3           E2                        42.84                        42.84   \n",
       "4           E2                        42.59                        42.59   \n",
       "\n",
       "   Percent.difference.CTC Joining.Bonus Candidate.relocate.actual  Gender  \\\n",
       "0                   42.86            No                        No  Female   \n",
       "1                  180.00            No                        No    Male   \n",
       "2                    0.00            No                        No    Male   \n",
       "3                    0.00            No                        No    Male   \n",
       "4                    0.00            No                       Yes    Male   \n",
       "\n",
       "    Candidate.Source  Rex.in.Yrs    LOB Location  Age  Status  \n",
       "0             Agency           7    ERS    Noida   34  Joined  \n",
       "1  Employee Referral           8  INFRA  Chennai   34  Joined  \n",
       "2             Agency           4  INFRA    Noida   27  Joined  \n",
       "3  Employee Referral           4  INFRA    Noida   34  Joined  \n",
       "4  Employee Referral           6  INFRA    Noida   34  Joined  "
      ]
     },
     "execution_count": 4,
     "metadata": {},
     "output_type": "execute_result"
    }
   ],
   "source": [
    "df.head()"
   ]
  },
  {
   "cell_type": "code",
   "execution_count": 5,
   "metadata": {},
   "outputs": [
    {
     "data": {
      "text/plain": [
       "(8998, 18)"
      ]
     },
     "execution_count": 5,
     "metadata": {},
     "output_type": "execute_result"
    }
   ],
   "source": [
    "df.shape"
   ]
  },
  {
   "cell_type": "markdown",
   "metadata": {},
   "source": [
    "# Exploratory data analysis"
   ]
  },
  {
   "cell_type": "code",
   "execution_count": 6,
   "metadata": {},
   "outputs": [
    {
     "data": {
      "text/plain": [
       "SLNO                           0\n",
       "Candidate.Ref                  0\n",
       "DOJ.Extended                   0\n",
       "Duration.to.accept.offer       0\n",
       "Notice.period                  0\n",
       "Offered.band                   0\n",
       "Pecent.hike.expected.in.CTC    0\n",
       "Percent.hike.offered.in.CTC    0\n",
       "Percent.difference.CTC         0\n",
       "Joining.Bonus                  0\n",
       "Candidate.relocate.actual      0\n",
       "Gender                         0\n",
       "Candidate.Source               0\n",
       "Rex.in.Yrs                     0\n",
       "LOB                            0\n",
       "Location                       0\n",
       "Age                            0\n",
       "Status                         0\n",
       "dtype: int64"
      ]
     },
     "execution_count": 6,
     "metadata": {},
     "output_type": "execute_result"
    }
   ],
   "source": [
    "df.isna().sum()"
   ]
  },
  {
   "cell_type": "code",
   "execution_count": 7,
   "metadata": {},
   "outputs": [
    {
     "data": {
      "text/plain": [
       "Index(['SLNO', 'Candidate.Ref', 'DOJ.Extended', 'Duration.to.accept.offer',\n",
       "       'Notice.period', 'Offered.band', 'Pecent.hike.expected.in.CTC',\n",
       "       'Percent.hike.offered.in.CTC', 'Percent.difference.CTC',\n",
       "       'Joining.Bonus', 'Candidate.relocate.actual', 'Gender',\n",
       "       'Candidate.Source', 'Rex.in.Yrs', 'LOB', 'Location', 'Age', 'Status'],\n",
       "      dtype='object')"
      ]
     },
     "execution_count": 7,
     "metadata": {},
     "output_type": "execute_result"
    }
   ],
   "source": [
    "df.columns"
   ]
  },
  {
   "cell_type": "code",
   "execution_count": 8,
   "metadata": {},
   "outputs": [
    {
     "data": {
      "text/plain": [
       "SLNO                             int64\n",
       "Candidate.Ref                    int64\n",
       "DOJ.Extended                    object\n",
       "Duration.to.accept.offer         int64\n",
       "Notice.period                    int64\n",
       "Offered.band                    object\n",
       "Pecent.hike.expected.in.CTC    float64\n",
       "Percent.hike.offered.in.CTC    float64\n",
       "Percent.difference.CTC         float64\n",
       "Joining.Bonus                   object\n",
       "Candidate.relocate.actual       object\n",
       "Gender                          object\n",
       "Candidate.Source                object\n",
       "Rex.in.Yrs                       int64\n",
       "LOB                             object\n",
       "Location                        object\n",
       "Age                              int64\n",
       "Status                          object\n",
       "dtype: object"
      ]
     },
     "execution_count": 8,
     "metadata": {},
     "output_type": "execute_result"
    }
   ],
   "source": [
    "df.dtypes"
   ]
  },
  {
   "cell_type": "code",
   "execution_count": 9,
   "metadata": {},
   "outputs": [
    {
     "data": {
      "text/plain": [
       "Joined        7316\n",
       "Not Joined    1682\n",
       "Name: Status, dtype: int64"
      ]
     },
     "execution_count": 9,
     "metadata": {},
     "output_type": "execute_result"
    }
   ],
   "source": [
    "df.Status.value_counts()"
   ]
  },
  {
   "cell_type": "markdown",
   "metadata": {},
   "source": [
    "Target variable has imbalanced class distribution. Negative class (Status=Not Joined) is much less than positive class (Status=Joined). Imbalanced class distributions influence the performance of a machine learning model negatively. We will use upsampling or downsampling to overcome this issue. "
   ]
  },
  {
   "cell_type": "markdown",
   "metadata": {},
   "source": [
    "It is always beneficial to explore the features (independent variables) before trying to build a model. Let's first discover the features that only have two values."
   ]
  },
  {
   "cell_type": "code",
   "execution_count": 10,
   "metadata": {},
   "outputs": [],
   "source": [
    "columns = df.columns\n",
    "binary_cols = []\n",
    "\n",
    "for col in columns:\n",
    "    if df[col].value_counts().shape[0] == 2:\n",
    "        binary_cols.append(col)"
   ]
  },
  {
   "cell_type": "code",
   "execution_count": 11,
   "metadata": {},
   "outputs": [
    {
     "data": {
      "text/plain": [
       "['DOJ.Extended',\n",
       " 'Joining.Bonus',\n",
       " 'Candidate.relocate.actual',\n",
       " 'Gender',\n",
       " 'Status']"
      ]
     },
     "execution_count": 11,
     "metadata": {},
     "output_type": "execute_result"
    }
   ],
   "source": [
    "binary_cols"
   ]
  },
  {
   "cell_type": "markdown",
   "metadata": {},
   "source": [
    "So 'DOJ.Extended','Joining.Bonus','Candidate.relocate.actual','Gender','Status' are binary features and the remaining features have more than two values."
   ]
  },
  {
   "cell_type": "markdown",
   "metadata": {},
   "source": [
    "# Binary Categorical features"
   ]
  },
  {
   "cell_type": "code",
   "execution_count": 12,
   "metadata": {},
   "outputs": [
    {
     "data": {
      "text/plain": [
       "<matplotlib.axes._subplots.AxesSubplot at 0x1470a4f1820>"
      ]
     },
     "execution_count": 12,
     "metadata": {},
     "output_type": "execute_result"
    },
    {
     "data": {
      "image/png": "[encoded data removed]",
      "text/plain": [
       "<Figure size 864x504 with 4 Axes>"
      ]
     },
     "metadata": {
      "needs_background": "light"
     },
     "output_type": "display_data"
    }
   ],
   "source": [
    "fig, axes = plt.subplots(2,2, figsize=(12, 7), sharey=True)\n",
    "\n",
    "sns.countplot(\"DOJ.Extended\", data=df, ax=axes[0,0])\n",
    "sns.countplot(\"Joining.Bonus\", data=df, ax=axes[0,1])\n",
    "sns.countplot(\"Candidate.relocate.actual\", data=df, ax=axes[1,0])\n",
    "sns.countplot(\"Gender\", data=df, ax=axes[1,1])"
   ]
  },
  {
   "cell_type": "markdown",
   "metadata": {},
   "source": [
    "There is a high imbalance in Joining.Bonus,Candidate.relocate.actual and Gender variables. Most of the candidate are not female and similarly, most candidates don not have Candidate.relocate.actual and similarly ,most candidates do not have Joining.Bonus."
   ]
  },
  {
   "cell_type": "markdown",
   "metadata": {},
   "source": [
    "It is better to check how the target variable (Status) changes according to the binary features. To be able to make calculations, we need to change the values of target variable. \"Joined\" will be 1 and \"Not Joined\" will be 0."
   ]
  },
  {
   "cell_type": "code",
   "execution_count": 13,
   "metadata": {},
   "outputs": [],
   "source": [
    "churn_numeric = {'Joined':1, 'Not Joined':0}\n",
    "df.Status.replace(churn_numeric, inplace=True)"
   ]
  },
  {
   "cell_type": "code",
   "execution_count": 14,
   "metadata": {},
   "outputs": [
    {
     "data": {
      "text/html": [
       "<div>\n",
       "<style scoped>\n",
       "    .dataframe tbody tr th:only-of-type {\n",
       "        vertical-align: middle;\n",
       "    }\n",
       "\n",
       "    .dataframe tbody tr th {\n",
       "        vertical-align: top;\n",
       "    }\n",
       "\n",
       "    .dataframe thead th {\n",
       "        text-align: right;\n",
       "    }\n",
       "</style>\n",
       "<table border=\"1\" class=\"dataframe\">\n",
       "  <thead>\n",
       "    <tr style=\"text-align: right;\">\n",
       "      <th></th>\n",
       "      <th>Status</th>\n",
       "    </tr>\n",
       "    <tr>\n",
       "      <th>Gender</th>\n",
       "      <th></th>\n",
       "    </tr>\n",
       "  </thead>\n",
       "  <tbody>\n",
       "    <tr>\n",
       "      <th>Female</th>\n",
       "      <td>0.823985</td>\n",
       "    </tr>\n",
       "    <tr>\n",
       "      <th>Male</th>\n",
       "      <td>0.810796</td>\n",
       "    </tr>\n",
       "  </tbody>\n",
       "</table>\n",
       "</div>"
      ],
      "text/plain": [
       "          Status\n",
       "Gender          \n",
       "Female  0.823985\n",
       "Male    0.810796"
      ]
     },
     "execution_count": 14,
     "metadata": {},
     "output_type": "execute_result"
    }
   ],
   "source": [
    "df[['Gender','Status']].groupby(['Gender']).mean()"
   ]
  },
  {
   "cell_type": "markdown",
   "metadata": {},
   "source": [
    "Average churn rate for males and females are approximately the same which indicates gender variable does not bring a valuable prediction power to a model. Therefore, I will not use gender variable in the machine learning model."
   ]
  },
  {
   "cell_type": "code",
   "execution_count": 15,
   "metadata": {},
   "outputs": [
    {
     "data": {
      "text/html": [
       "<div>\n",
       "<style scoped>\n",
       "    .dataframe tbody tr th:only-of-type {\n",
       "        vertical-align: middle;\n",
       "    }\n",
       "\n",
       "    .dataframe tbody tr th {\n",
       "        vertical-align: top;\n",
       "    }\n",
       "\n",
       "    .dataframe thead th {\n",
       "        text-align: right;\n",
       "    }\n",
       "</style>\n",
       "<table border=\"1\" class=\"dataframe\">\n",
       "  <thead>\n",
       "    <tr style=\"text-align: right;\">\n",
       "      <th></th>\n",
       "      <th>Status</th>\n",
       "    </tr>\n",
       "    <tr>\n",
       "      <th>DOJ.Extended</th>\n",
       "      <th></th>\n",
       "    </tr>\n",
       "  </thead>\n",
       "  <tbody>\n",
       "    <tr>\n",
       "      <th>No</th>\n",
       "      <td>0.810856</td>\n",
       "    </tr>\n",
       "    <tr>\n",
       "      <th>Yes</th>\n",
       "      <td>0.815589</td>\n",
       "    </tr>\n",
       "  </tbody>\n",
       "</table>\n",
       "</div>"
      ],
      "text/plain": [
       "                Status\n",
       "DOJ.Extended          \n",
       "No            0.810856\n",
       "Yes           0.815589"
      ]
     },
     "execution_count": 15,
     "metadata": {},
     "output_type": "execute_result"
    }
   ],
   "source": [
    "df[['DOJ.Extended','Status']].groupby(['DOJ.Extended']).mean()"
   ]
  },
  {
   "cell_type": "markdown",
   "metadata": {},
   "source": [
    "Average churn rate for  DOJ.Extended(YES or NO) are approximately the same which indicates DOJ.Extended variable does not bring a valuable prediction power to a model. Therefore, I will not use DOJ.Extended variable in the machine learning model."
   ]
  },
  {
   "cell_type": "code",
   "execution_count": 16,
   "metadata": {},
   "outputs": [
    {
     "data": {
      "text/html": [
       "<div>\n",
       "<style scoped>\n",
       "    .dataframe tbody tr th:only-of-type {\n",
       "        vertical-align: middle;\n",
       "    }\n",
       "\n",
       "    .dataframe tbody tr th {\n",
       "        vertical-align: top;\n",
       "    }\n",
       "\n",
       "    .dataframe thead th {\n",
       "        text-align: right;\n",
       "    }\n",
       "</style>\n",
       "<table border=\"1\" class=\"dataframe\">\n",
       "  <thead>\n",
       "    <tr style=\"text-align: right;\">\n",
       "      <th></th>\n",
       "      <th>Status</th>\n",
       "    </tr>\n",
       "    <tr>\n",
       "      <th>Joining.Bonus</th>\n",
       "      <th></th>\n",
       "    </tr>\n",
       "  </thead>\n",
       "  <tbody>\n",
       "    <tr>\n",
       "      <th>No</th>\n",
       "      <td>0.813425</td>\n",
       "    </tr>\n",
       "    <tr>\n",
       "      <th>Yes</th>\n",
       "      <td>0.805755</td>\n",
       "    </tr>\n",
       "  </tbody>\n",
       "</table>\n",
       "</div>"
      ],
      "text/plain": [
       "                 Status\n",
       "Joining.Bonus          \n",
       "No             0.813425\n",
       "Yes            0.805755"
      ]
     },
     "execution_count": 16,
     "metadata": {},
     "output_type": "execute_result"
    }
   ],
   "source": [
    "df[['Joining.Bonus','Status']].groupby(['Joining.Bonus']).mean()"
   ]
  },
  {
   "cell_type": "markdown",
   "metadata": {},
   "source": [
    "Average churn rate for Joining.Bonus(YES or NO) are approximately the same which indicates Joining.Bonus variable does not bring a valuable prediction power to a model. Therefore, I will not use Joining.Bonus variable in the machine learning model."
   ]
  },
  {
   "cell_type": "code",
   "execution_count": 17,
   "metadata": {},
   "outputs": [
    {
     "data": {
      "text/html": [
       "<div>\n",
       "<style scoped>\n",
       "    .dataframe tbody tr th:only-of-type {\n",
       "        vertical-align: middle;\n",
       "    }\n",
       "\n",
       "    .dataframe tbody tr th {\n",
       "        vertical-align: top;\n",
       "    }\n",
       "\n",
       "    .dataframe thead th {\n",
       "        text-align: right;\n",
       "    }\n",
       "</style>\n",
       "<table border=\"1\" class=\"dataframe\">\n",
       "  <thead>\n",
       "    <tr style=\"text-align: right;\">\n",
       "      <th></th>\n",
       "      <th>Status</th>\n",
       "    </tr>\n",
       "    <tr>\n",
       "      <th>Candidate.relocate.actual</th>\n",
       "      <th></th>\n",
       "    </tr>\n",
       "  </thead>\n",
       "  <tbody>\n",
       "    <tr>\n",
       "      <th>No</th>\n",
       "      <td>0.781785</td>\n",
       "    </tr>\n",
       "    <tr>\n",
       "      <th>Yes</th>\n",
       "      <td>1.000000</td>\n",
       "    </tr>\n",
       "  </tbody>\n",
       "</table>\n",
       "</div>"
      ],
      "text/plain": [
       "                             Status\n",
       "Candidate.relocate.actual          \n",
       "No                         0.781785\n",
       "Yes                        1.000000"
      ]
     },
     "execution_count": 17,
     "metadata": {},
     "output_type": "execute_result"
    }
   ],
   "source": [
    "df[['Candidate.relocate.actual','Status']].groupby(['Candidate.relocate.actual']).mean()"
   ]
  },
  {
   "cell_type": "markdown",
   "metadata": {},
   "source": [
    "Average churn rate for Candidate.relocate.actual(YES or NO) are not so close which indicates that we can use Candidate.relocate.actual in our Model"
   ]
  },
  {
   "cell_type": "code",
   "execution_count": 18,
   "metadata": {},
   "outputs": [
    {
     "data": {
      "text/html": [
       "<div>\n",
       "<style scoped>\n",
       "    .dataframe tbody tr th:only-of-type {\n",
       "        vertical-align: middle;\n",
       "    }\n",
       "\n",
       "    .dataframe tbody tr th {\n",
       "        vertical-align: top;\n",
       "    }\n",
       "\n",
       "    .dataframe thead th {\n",
       "        text-align: right;\n",
       "    }\n",
       "</style>\n",
       "<table border=\"1\" class=\"dataframe\">\n",
       "  <thead>\n",
       "    <tr style=\"text-align: right;\">\n",
       "      <th>DOJ.Extended</th>\n",
       "      <th>No</th>\n",
       "      <th>Yes</th>\n",
       "    </tr>\n",
       "    <tr>\n",
       "      <th>Gender</th>\n",
       "      <th></th>\n",
       "      <th></th>\n",
       "    </tr>\n",
       "  </thead>\n",
       "  <tbody>\n",
       "    <tr>\n",
       "      <th>Female</th>\n",
       "      <td>0.822619</td>\n",
       "      <td>0.825598</td>\n",
       "    </tr>\n",
       "    <tr>\n",
       "      <th>Male</th>\n",
       "      <td>0.808354</td>\n",
       "      <td>0.813554</td>\n",
       "    </tr>\n",
       "  </tbody>\n",
       "</table>\n",
       "</div>"
      ],
      "text/plain": [
       "DOJ.Extended        No       Yes\n",
       "Gender                          \n",
       "Female        0.822619  0.825598\n",
       "Male          0.808354  0.813554"
      ]
     },
     "execution_count": 18,
     "metadata": {},
     "output_type": "execute_result"
    }
   ],
   "source": [
    "table = pd.pivot_table(df, values='Status', index=['Gender'],\n",
    "                    columns=['DOJ.Extended'], aggfunc=np.mean)\n",
    "table"
   ]
  },
  {
   "cell_type": "code",
   "execution_count": 19,
   "metadata": {},
   "outputs": [
    {
     "data": {
      "text/html": [
       "<div>\n",
       "<style scoped>\n",
       "    .dataframe tbody tr th:only-of-type {\n",
       "        vertical-align: middle;\n",
       "    }\n",
       "\n",
       "    .dataframe tbody tr th {\n",
       "        vertical-align: top;\n",
       "    }\n",
       "\n",
       "    .dataframe thead th {\n",
       "        text-align: right;\n",
       "    }\n",
       "</style>\n",
       "<table border=\"1\" class=\"dataframe\">\n",
       "  <thead>\n",
       "    <tr style=\"text-align: right;\">\n",
       "      <th>Candidate.relocate.actual</th>\n",
       "      <th>No</th>\n",
       "      <th>Yes</th>\n",
       "    </tr>\n",
       "    <tr>\n",
       "      <th>Joining.Bonus</th>\n",
       "      <th></th>\n",
       "      <th></th>\n",
       "    </tr>\n",
       "  </thead>\n",
       "  <tbody>\n",
       "    <tr>\n",
       "      <th>No</th>\n",
       "      <td>0.784203</td>\n",
       "      <td>1.0</td>\n",
       "    </tr>\n",
       "    <tr>\n",
       "      <th>Yes</th>\n",
       "      <td>0.719723</td>\n",
       "      <td>1.0</td>\n",
       "    </tr>\n",
       "  </tbody>\n",
       "</table>\n",
       "</div>"
      ],
      "text/plain": [
       "Candidate.relocate.actual        No  Yes\n",
       "Joining.Bonus                           \n",
       "No                         0.784203  1.0\n",
       "Yes                        0.719723  1.0"
      ]
     },
     "execution_count": 19,
     "metadata": {},
     "output_type": "execute_result"
    }
   ],
   "source": [
    "table = pd.pivot_table(df, values='Status', index=['Joining.Bonus'],\n",
    "                    columns=['Candidate.relocate.actual'], aggfunc=np.mean)\n",
    "table"
   ]
  },
  {
   "cell_type": "markdown",
   "metadata": {},
   "source": [
    "# Other categorical features"
   ]
  },
  {
   "cell_type": "code",
   "execution_count": 20,
   "metadata": {},
   "outputs": [
    {
     "data": {
      "text/plain": [
       "<matplotlib.axes._subplots.AxesSubplot at 0x1470a5fcd00>"
      ]
     },
     "execution_count": 20,
     "metadata": {},
     "output_type": "execute_result"
    },
    {
     "data": {
      "image/png": "[encoded data removed]",
      "text/plain": [
       "<Figure size 432x288 with 1 Axes>"
      ]
     },
     "metadata": {
      "needs_background": "light"
     },
     "output_type": "display_data"
    }
   ],
   "source": [
    "sns.countplot(\"Offered.band\", data=df)"
   ]
  },
  {
   "cell_type": "code",
   "execution_count": 21,
   "metadata": {},
   "outputs": [
    {
     "data": {
      "text/html": [
       "<div>\n",
       "<style scoped>\n",
       "    .dataframe tbody tr th:only-of-type {\n",
       "        vertical-align: middle;\n",
       "    }\n",
       "\n",
       "    .dataframe tbody tr th {\n",
       "        vertical-align: top;\n",
       "    }\n",
       "\n",
       "    .dataframe thead th {\n",
       "        text-align: right;\n",
       "    }\n",
       "</style>\n",
       "<table border=\"1\" class=\"dataframe\">\n",
       "  <thead>\n",
       "    <tr style=\"text-align: right;\">\n",
       "      <th></th>\n",
       "      <th>Status</th>\n",
       "    </tr>\n",
       "    <tr>\n",
       "      <th>Offered.band</th>\n",
       "      <th></th>\n",
       "    </tr>\n",
       "  </thead>\n",
       "  <tbody>\n",
       "    <tr>\n",
       "      <th>E0</th>\n",
       "      <td>0.763033</td>\n",
       "    </tr>\n",
       "    <tr>\n",
       "      <th>E1</th>\n",
       "      <td>0.813106</td>\n",
       "    </tr>\n",
       "    <tr>\n",
       "      <th>E2</th>\n",
       "      <td>0.809735</td>\n",
       "    </tr>\n",
       "    <tr>\n",
       "      <th>E3</th>\n",
       "      <td>0.851485</td>\n",
       "    </tr>\n",
       "  </tbody>\n",
       "</table>\n",
       "</div>"
      ],
      "text/plain": [
       "                Status\n",
       "Offered.band          \n",
       "E0            0.763033\n",
       "E1            0.813106\n",
       "E2            0.809735\n",
       "E3            0.851485"
      ]
     },
     "execution_count": 21,
     "metadata": {},
     "output_type": "execute_result"
    }
   ],
   "source": [
    "df[['Offered.band','Status']].groupby('Offered.band').mean()"
   ]
  },
  {
   "cell_type": "code",
   "execution_count": 22,
   "metadata": {},
   "outputs": [
    {
     "data": {
      "text/plain": [
       "<matplotlib.axes._subplots.AxesSubplot at 0x1470a64e730>"
      ]
     },
     "execution_count": 22,
     "metadata": {},
     "output_type": "execute_result"
    },
    {
     "data": {
      "image/png": "[encoded data removed]",
      "text/plain": [
       "<Figure size 432x288 with 1 Axes>"
      ]
     },
     "metadata": {
      "needs_background": "light"
     },
     "output_type": "display_data"
    }
   ],
   "source": [
    "sns.countplot(\"Candidate.Source\", data=df)"
   ]
  },
  {
   "cell_type": "code",
   "execution_count": 23,
   "metadata": {},
   "outputs": [
    {
     "data": {
      "text/html": [
       "<div>\n",
       "<style scoped>\n",
       "    .dataframe tbody tr th:only-of-type {\n",
       "        vertical-align: middle;\n",
       "    }\n",
       "\n",
       "    .dataframe tbody tr th {\n",
       "        vertical-align: top;\n",
       "    }\n",
       "\n",
       "    .dataframe thead th {\n",
       "        text-align: right;\n",
       "    }\n",
       "</style>\n",
       "<table border=\"1\" class=\"dataframe\">\n",
       "  <thead>\n",
       "    <tr style=\"text-align: right;\">\n",
       "      <th></th>\n",
       "      <th>Status</th>\n",
       "    </tr>\n",
       "    <tr>\n",
       "      <th>Candidate.Source</th>\n",
       "      <th></th>\n",
       "    </tr>\n",
       "  </thead>\n",
       "  <tbody>\n",
       "    <tr>\n",
       "      <th>Agency</th>\n",
       "      <td>0.758221</td>\n",
       "    </tr>\n",
       "    <tr>\n",
       "      <th>Direct</th>\n",
       "      <td>0.820112</td>\n",
       "    </tr>\n",
       "    <tr>\n",
       "      <th>Employee Referral</th>\n",
       "      <td>0.880124</td>\n",
       "    </tr>\n",
       "  </tbody>\n",
       "</table>\n",
       "</div>"
      ],
      "text/plain": [
       "                     Status\n",
       "Candidate.Source           \n",
       "Agency             0.758221\n",
       "Direct             0.820112\n",
       "Employee Referral  0.880124"
      ]
     },
     "execution_count": 23,
     "metadata": {},
     "output_type": "execute_result"
    }
   ],
   "source": [
    "df[['Candidate.Source','Status']].groupby('Candidate.Source').mean()"
   ]
  },
  {
   "cell_type": "code",
   "execution_count": 24,
   "metadata": {},
   "outputs": [
    {
     "data": {
      "text/plain": [
       "<matplotlib.axes._subplots.AxesSubplot at 0x1470a690640>"
      ]
     },
     "execution_count": 24,
     "metadata": {},
     "output_type": "execute_result"
    },
    {
     "data": {
      "image/png": "[encoded data removed]",
      "text/plain": [
       "<Figure size 1440x360 with 1 Axes>"
      ]
     },
     "metadata": {
      "needs_background": "light"
     },
     "output_type": "display_data"
    }
   ],
   "source": [
    "plt.figure(figsize = (20,5))\n",
    "\n",
    "sns.countplot(\"LOB\", data=df)"
   ]
  },
  {
   "cell_type": "code",
   "execution_count": 25,
   "metadata": {},
   "outputs": [
    {
     "data": {
      "text/html": [
       "<div>\n",
       "<style scoped>\n",
       "    .dataframe tbody tr th:only-of-type {\n",
       "        vertical-align: middle;\n",
       "    }\n",
       "\n",
       "    .dataframe tbody tr th {\n",
       "        vertical-align: top;\n",
       "    }\n",
       "\n",
       "    .dataframe thead th {\n",
       "        text-align: right;\n",
       "    }\n",
       "</style>\n",
       "<table border=\"1\" class=\"dataframe\">\n",
       "  <thead>\n",
       "    <tr style=\"text-align: right;\">\n",
       "      <th></th>\n",
       "      <th>Status</th>\n",
       "    </tr>\n",
       "    <tr>\n",
       "      <th>LOB</th>\n",
       "      <th></th>\n",
       "    </tr>\n",
       "  </thead>\n",
       "  <tbody>\n",
       "    <tr>\n",
       "      <th>AXON</th>\n",
       "      <td>0.774648</td>\n",
       "    </tr>\n",
       "    <tr>\n",
       "      <th>BFSI</th>\n",
       "      <td>0.758596</td>\n",
       "    </tr>\n",
       "    <tr>\n",
       "      <th>CSMP</th>\n",
       "      <td>0.815199</td>\n",
       "    </tr>\n",
       "    <tr>\n",
       "      <th>EAS</th>\n",
       "      <td>0.734104</td>\n",
       "    </tr>\n",
       "    <tr>\n",
       "      <th>ERS</th>\n",
       "      <td>0.781211</td>\n",
       "    </tr>\n",
       "    <tr>\n",
       "      <th>ETS</th>\n",
       "      <td>0.831169</td>\n",
       "    </tr>\n",
       "    <tr>\n",
       "      <th>Healthcare</th>\n",
       "      <td>0.822581</td>\n",
       "    </tr>\n",
       "    <tr>\n",
       "      <th>INFRA</th>\n",
       "      <td>0.877895</td>\n",
       "    </tr>\n",
       "    <tr>\n",
       "      <th>MMS</th>\n",
       "      <td>1.000000</td>\n",
       "    </tr>\n",
       "  </tbody>\n",
       "</table>\n",
       "</div>"
      ],
      "text/plain": [
       "              Status\n",
       "LOB                 \n",
       "AXON        0.774648\n",
       "BFSI        0.758596\n",
       "CSMP        0.815199\n",
       "EAS         0.734104\n",
       "ERS         0.781211\n",
       "ETS         0.831169\n",
       "Healthcare  0.822581\n",
       "INFRA       0.877895\n",
       "MMS         1.000000"
      ]
     },
     "execution_count": 25,
     "metadata": {},
     "output_type": "execute_result"
    }
   ],
   "source": [
    "df[['LOB','Status']].groupby('LOB').mean()"
   ]
  },
  {
   "cell_type": "code",
   "execution_count": 26,
   "metadata": {},
   "outputs": [
    {
     "data": {
      "text/plain": [
       "<matplotlib.axes._subplots.AxesSubplot at 0x1470a6e6af0>"
      ]
     },
     "execution_count": 26,
     "metadata": {},
     "output_type": "execute_result"
    },
    {
     "data": {
      "image/png": "[encoded data removed]",
      "text/plain": [
       "<Figure size 1440x360 with 1 Axes>"
      ]
     },
     "metadata": {
      "needs_background": "light"
     },
     "output_type": "display_data"
    }
   ],
   "source": [
    "plt.figure(figsize = (20,5))\n",
    "\n",
    "sns.countplot(\"Location\", data=df)"
   ]
  },
  {
   "cell_type": "code",
   "execution_count": 27,
   "metadata": {},
   "outputs": [
    {
     "data": {
      "text/html": [
       "<div>\n",
       "<style scoped>\n",
       "    .dataframe tbody tr th:only-of-type {\n",
       "        vertical-align: middle;\n",
       "    }\n",
       "\n",
       "    .dataframe tbody tr th {\n",
       "        vertical-align: top;\n",
       "    }\n",
       "\n",
       "    .dataframe thead th {\n",
       "        text-align: right;\n",
       "    }\n",
       "</style>\n",
       "<table border=\"1\" class=\"dataframe\">\n",
       "  <thead>\n",
       "    <tr style=\"text-align: right;\">\n",
       "      <th></th>\n",
       "      <th>Status</th>\n",
       "    </tr>\n",
       "    <tr>\n",
       "      <th>Location</th>\n",
       "      <th></th>\n",
       "    </tr>\n",
       "  </thead>\n",
       "  <tbody>\n",
       "    <tr>\n",
       "      <th>Ahmedabad</th>\n",
       "      <td>0.833333</td>\n",
       "    </tr>\n",
       "    <tr>\n",
       "      <th>Bangalore</th>\n",
       "      <td>0.781264</td>\n",
       "    </tr>\n",
       "    <tr>\n",
       "      <th>Chennai</th>\n",
       "      <td>0.789273</td>\n",
       "    </tr>\n",
       "    <tr>\n",
       "      <th>Cochin</th>\n",
       "      <td>0.875000</td>\n",
       "    </tr>\n",
       "    <tr>\n",
       "      <th>Gurgaon</th>\n",
       "      <td>0.808219</td>\n",
       "    </tr>\n",
       "    <tr>\n",
       "      <th>Hyderabad</th>\n",
       "      <td>0.780059</td>\n",
       "    </tr>\n",
       "    <tr>\n",
       "      <th>Kolkata</th>\n",
       "      <td>0.775194</td>\n",
       "    </tr>\n",
       "    <tr>\n",
       "      <th>Mumbai</th>\n",
       "      <td>0.893401</td>\n",
       "    </tr>\n",
       "    <tr>\n",
       "      <th>Noida</th>\n",
       "      <td>0.866202</td>\n",
       "    </tr>\n",
       "    <tr>\n",
       "      <th>Others</th>\n",
       "      <td>1.000000</td>\n",
       "    </tr>\n",
       "    <tr>\n",
       "      <th>Pune</th>\n",
       "      <td>0.791667</td>\n",
       "    </tr>\n",
       "  </tbody>\n",
       "</table>\n",
       "</div>"
      ],
      "text/plain": [
       "             Status\n",
       "Location           \n",
       "Ahmedabad  0.833333\n",
       "Bangalore  0.781264\n",
       "Chennai    0.789273\n",
       "Cochin     0.875000\n",
       "Gurgaon    0.808219\n",
       "Hyderabad  0.780059\n",
       "Kolkata    0.775194\n",
       "Mumbai     0.893401\n",
       "Noida      0.866202\n",
       "Others     1.000000\n",
       "Pune       0.791667"
      ]
     },
     "execution_count": 27,
     "metadata": {},
     "output_type": "execute_result"
    }
   ],
   "source": [
    "df[['Location','Status']].groupby('Location').mean()"
   ]
  },
  {
   "cell_type": "markdown",
   "metadata": {},
   "source": [
    "# Continuous Features"
   ]
  },
  {
   "cell_type": "code",
   "execution_count": 28,
   "metadata": {},
   "outputs": [
    {
     "data": {
      "text/html": [
       "<div>\n",
       "<style scoped>\n",
       "    .dataframe tbody tr th:only-of-type {\n",
       "        vertical-align: middle;\n",
       "    }\n",
       "\n",
       "    .dataframe tbody tr th {\n",
       "        vertical-align: top;\n",
       "    }\n",
       "\n",
       "    .dataframe thead th {\n",
       "        text-align: right;\n",
       "    }\n",
       "</style>\n",
       "<table border=\"1\" class=\"dataframe\">\n",
       "  <thead>\n",
       "    <tr style=\"text-align: right;\">\n",
       "      <th></th>\n",
       "      <th>SLNO</th>\n",
       "      <th>Candidate.Ref</th>\n",
       "      <th>DOJ.Extended</th>\n",
       "      <th>Duration.to.accept.offer</th>\n",
       "      <th>Notice.period</th>\n",
       "      <th>Offered.band</th>\n",
       "      <th>Pecent.hike.expected.in.CTC</th>\n",
       "      <th>Percent.hike.offered.in.CTC</th>\n",
       "      <th>Percent.difference.CTC</th>\n",
       "      <th>Joining.Bonus</th>\n",
       "      <th>Candidate.relocate.actual</th>\n",
       "      <th>Gender</th>\n",
       "      <th>Candidate.Source</th>\n",
       "      <th>Rex.in.Yrs</th>\n",
       "      <th>LOB</th>\n",
       "      <th>Location</th>\n",
       "      <th>Age</th>\n",
       "      <th>Status</th>\n",
       "    </tr>\n",
       "  </thead>\n",
       "  <tbody>\n",
       "    <tr>\n",
       "      <th>0</th>\n",
       "      <td>1</td>\n",
       "      <td>2110407</td>\n",
       "      <td>Yes</td>\n",
       "      <td>14</td>\n",
       "      <td>30</td>\n",
       "      <td>E2</td>\n",
       "      <td>-20.79</td>\n",
       "      <td>13.16</td>\n",
       "      <td>42.86</td>\n",
       "      <td>No</td>\n",
       "      <td>No</td>\n",
       "      <td>Female</td>\n",
       "      <td>Agency</td>\n",
       "      <td>7</td>\n",
       "      <td>ERS</td>\n",
       "      <td>Noida</td>\n",
       "      <td>34</td>\n",
       "      <td>1</td>\n",
       "    </tr>\n",
       "    <tr>\n",
       "      <th>1</th>\n",
       "      <td>2</td>\n",
       "      <td>2112635</td>\n",
       "      <td>No</td>\n",
       "      <td>18</td>\n",
       "      <td>30</td>\n",
       "      <td>E2</td>\n",
       "      <td>50.00</td>\n",
       "      <td>320.00</td>\n",
       "      <td>180.00</td>\n",
       "      <td>No</td>\n",
       "      <td>No</td>\n",
       "      <td>Male</td>\n",
       "      <td>Employee Referral</td>\n",
       "      <td>8</td>\n",
       "      <td>INFRA</td>\n",
       "      <td>Chennai</td>\n",
       "      <td>34</td>\n",
       "      <td>1</td>\n",
       "    </tr>\n",
       "    <tr>\n",
       "      <th>2</th>\n",
       "      <td>3</td>\n",
       "      <td>2112838</td>\n",
       "      <td>No</td>\n",
       "      <td>3</td>\n",
       "      <td>45</td>\n",
       "      <td>E2</td>\n",
       "      <td>42.84</td>\n",
       "      <td>42.84</td>\n",
       "      <td>0.00</td>\n",
       "      <td>No</td>\n",
       "      <td>No</td>\n",
       "      <td>Male</td>\n",
       "      <td>Agency</td>\n",
       "      <td>4</td>\n",
       "      <td>INFRA</td>\n",
       "      <td>Noida</td>\n",
       "      <td>27</td>\n",
       "      <td>1</td>\n",
       "    </tr>\n",
       "    <tr>\n",
       "      <th>3</th>\n",
       "      <td>4</td>\n",
       "      <td>2115021</td>\n",
       "      <td>No</td>\n",
       "      <td>26</td>\n",
       "      <td>30</td>\n",
       "      <td>E2</td>\n",
       "      <td>42.84</td>\n",
       "      <td>42.84</td>\n",
       "      <td>0.00</td>\n",
       "      <td>No</td>\n",
       "      <td>No</td>\n",
       "      <td>Male</td>\n",
       "      <td>Employee Referral</td>\n",
       "      <td>4</td>\n",
       "      <td>INFRA</td>\n",
       "      <td>Noida</td>\n",
       "      <td>34</td>\n",
       "      <td>1</td>\n",
       "    </tr>\n",
       "    <tr>\n",
       "      <th>4</th>\n",
       "      <td>5</td>\n",
       "      <td>2115125</td>\n",
       "      <td>Yes</td>\n",
       "      <td>1</td>\n",
       "      <td>120</td>\n",
       "      <td>E2</td>\n",
       "      <td>42.59</td>\n",
       "      <td>42.59</td>\n",
       "      <td>0.00</td>\n",
       "      <td>No</td>\n",
       "      <td>Yes</td>\n",
       "      <td>Male</td>\n",
       "      <td>Employee Referral</td>\n",
       "      <td>6</td>\n",
       "      <td>INFRA</td>\n",
       "      <td>Noida</td>\n",
       "      <td>34</td>\n",
       "      <td>1</td>\n",
       "    </tr>\n",
       "    <tr>\n",
       "      <th>...</th>\n",
       "      <td>...</td>\n",
       "      <td>...</td>\n",
       "      <td>...</td>\n",
       "      <td>...</td>\n",
       "      <td>...</td>\n",
       "      <td>...</td>\n",
       "      <td>...</td>\n",
       "      <td>...</td>\n",
       "      <td>...</td>\n",
       "      <td>...</td>\n",
       "      <td>...</td>\n",
       "      <td>...</td>\n",
       "      <td>...</td>\n",
       "      <td>...</td>\n",
       "      <td>...</td>\n",
       "      <td>...</td>\n",
       "      <td>...</td>\n",
       "      <td>...</td>\n",
       "    </tr>\n",
       "    <tr>\n",
       "      <th>8993</th>\n",
       "      <td>12332</td>\n",
       "      <td>3835433</td>\n",
       "      <td>No</td>\n",
       "      <td>0</td>\n",
       "      <td>30</td>\n",
       "      <td>E1</td>\n",
       "      <td>76.92</td>\n",
       "      <td>53.85</td>\n",
       "      <td>-13.04</td>\n",
       "      <td>No</td>\n",
       "      <td>No</td>\n",
       "      <td>Male</td>\n",
       "      <td>Direct</td>\n",
       "      <td>4</td>\n",
       "      <td>INFRA</td>\n",
       "      <td>Noida</td>\n",
       "      <td>34</td>\n",
       "      <td>1</td>\n",
       "    </tr>\n",
       "    <tr>\n",
       "      <th>8994</th>\n",
       "      <td>12333</td>\n",
       "      <td>3836076</td>\n",
       "      <td>No</td>\n",
       "      <td>2</td>\n",
       "      <td>0</td>\n",
       "      <td>E1</td>\n",
       "      <td>45.25</td>\n",
       "      <td>14.09</td>\n",
       "      <td>-21.45</td>\n",
       "      <td>No</td>\n",
       "      <td>No</td>\n",
       "      <td>Female</td>\n",
       "      <td>Employee Referral</td>\n",
       "      <td>1</td>\n",
       "      <td>INFRA</td>\n",
       "      <td>Chennai</td>\n",
       "      <td>34</td>\n",
       "      <td>1</td>\n",
       "    </tr>\n",
       "    <tr>\n",
       "      <th>8995</th>\n",
       "      <td>12319</td>\n",
       "      <td>3822427</td>\n",
       "      <td>No</td>\n",
       "      <td>4</td>\n",
       "      <td>0</td>\n",
       "      <td>E1</td>\n",
       "      <td>191.67</td>\n",
       "      <td>191.67</td>\n",
       "      <td>0.00</td>\n",
       "      <td>No</td>\n",
       "      <td>No</td>\n",
       "      <td>Male</td>\n",
       "      <td>Employee Referral</td>\n",
       "      <td>1</td>\n",
       "      <td>ERS</td>\n",
       "      <td>Chennai</td>\n",
       "      <td>34</td>\n",
       "      <td>1</td>\n",
       "    </tr>\n",
       "    <tr>\n",
       "      <th>8996</th>\n",
       "      <td>11882</td>\n",
       "      <td>3664089</td>\n",
       "      <td>No</td>\n",
       "      <td>5</td>\n",
       "      <td>0</td>\n",
       "      <td>E2</td>\n",
       "      <td>20.00</td>\n",
       "      <td>10.00</td>\n",
       "      <td>-8.33</td>\n",
       "      <td>No</td>\n",
       "      <td>No</td>\n",
       "      <td>Male</td>\n",
       "      <td>Direct</td>\n",
       "      <td>8</td>\n",
       "      <td>ETS</td>\n",
       "      <td>Noida</td>\n",
       "      <td>34</td>\n",
       "      <td>1</td>\n",
       "    </tr>\n",
       "    <tr>\n",
       "      <th>8997</th>\n",
       "      <td>5080</td>\n",
       "      <td>2556130</td>\n",
       "      <td>Yes</td>\n",
       "      <td>4</td>\n",
       "      <td>30</td>\n",
       "      <td>E1</td>\n",
       "      <td>30.95</td>\n",
       "      <td>23.81</td>\n",
       "      <td>-5.45</td>\n",
       "      <td>No</td>\n",
       "      <td>No</td>\n",
       "      <td>Male</td>\n",
       "      <td>Direct</td>\n",
       "      <td>4</td>\n",
       "      <td>ETS</td>\n",
       "      <td>Bangalore</td>\n",
       "      <td>26</td>\n",
       "      <td>1</td>\n",
       "    </tr>\n",
       "  </tbody>\n",
       "</table>\n",
       "<p>8998 rows × 18 columns</p>\n",
       "</div>"
      ],
      "text/plain": [
       "       SLNO  Candidate.Ref DOJ.Extended  Duration.to.accept.offer  \\\n",
       "0         1        2110407          Yes                        14   \n",
       "1         2        2112635           No                        18   \n",
       "2         3        2112838           No                         3   \n",
       "3         4        2115021           No                        26   \n",
       "4         5        2115125          Yes                         1   \n",
       "...     ...            ...          ...                       ...   \n",
       "8993  12332        3835433           No                         0   \n",
       "8994  12333        3836076           No                         2   \n",
       "8995  12319        3822427           No                         4   \n",
       "8996  11882        3664089           No                         5   \n",
       "8997   5080        2556130          Yes                         4   \n",
       "\n",
       "      Notice.period Offered.band  Pecent.hike.expected.in.CTC  \\\n",
       "0                30           E2                       -20.79   \n",
       "1                30           E2                        50.00   \n",
       "2                45           E2                        42.84   \n",
       "3                30           E2                        42.84   \n",
       "4               120           E2                        42.59   \n",
       "...             ...          ...                          ...   \n",
       "8993             30           E1                        76.92   \n",
       "8994              0           E1                        45.25   \n",
       "8995              0           E1                       191.67   \n",
       "8996              0           E2                        20.00   \n",
       "8997             30           E1                        30.95   \n",
       "\n",
       "      Percent.hike.offered.in.CTC  Percent.difference.CTC Joining.Bonus  \\\n",
       "0                           13.16                   42.86            No   \n",
       "1                          320.00                  180.00            No   \n",
       "2                           42.84                    0.00            No   \n",
       "3                           42.84                    0.00            No   \n",
       "4                           42.59                    0.00            No   \n",
       "...                           ...                     ...           ...   \n",
       "8993                        53.85                  -13.04            No   \n",
       "8994                        14.09                  -21.45            No   \n",
       "8995                       191.67                    0.00            No   \n",
       "8996                        10.00                   -8.33            No   \n",
       "8997                        23.81                   -5.45            No   \n",
       "\n",
       "     Candidate.relocate.actual  Gender   Candidate.Source  Rex.in.Yrs    LOB  \\\n",
       "0                           No  Female             Agency           7    ERS   \n",
       "1                           No    Male  Employee Referral           8  INFRA   \n",
       "2                           No    Male             Agency           4  INFRA   \n",
       "3                           No    Male  Employee Referral           4  INFRA   \n",
       "4                          Yes    Male  Employee Referral           6  INFRA   \n",
       "...                        ...     ...                ...         ...    ...   \n",
       "8993                        No    Male             Direct           4  INFRA   \n",
       "8994                        No  Female  Employee Referral           1  INFRA   \n",
       "8995                        No    Male  Employee Referral           1    ERS   \n",
       "8996                        No    Male             Direct           8    ETS   \n",
       "8997                        No    Male             Direct           4    ETS   \n",
       "\n",
       "       Location  Age  Status  \n",
       "0         Noida   34       1  \n",
       "1       Chennai   34       1  \n",
       "2         Noida   27       1  \n",
       "3         Noida   34       1  \n",
       "4         Noida   34       1  \n",
       "...         ...  ...     ...  \n",
       "8993      Noida   34       1  \n",
       "8994    Chennai   34       1  \n",
       "8995    Chennai   34       1  \n",
       "8996      Noida   34       1  \n",
       "8997  Bangalore   26       1  \n",
       "\n",
       "[8998 rows x 18 columns]"
      ]
     },
     "execution_count": 28,
     "metadata": {},
     "output_type": "execute_result"
    }
   ],
   "source": [
    "df"
   ]
  },
  {
   "cell_type": "code",
   "execution_count": 29,
   "metadata": {},
   "outputs": [
    {
     "data": {
      "text/plain": [
       "<matplotlib.axes._subplots.AxesSubplot at 0x1470a7b07f0>"
      ]
     },
     "execution_count": 29,
     "metadata": {},
     "output_type": "execute_result"
    },
    {
     "data": {
      "image/png": "[encoded data removed]",
      "text/plain": [
       "<Figure size 864x504 with 2 Axes>"
      ]
     },
     "metadata": {
      "needs_background": "light"
     },
     "output_type": "display_data"
    }
   ],
   "source": [
    "fig, axes = plt.subplots(1,2, figsize=(12, 7))\n",
    "\n",
    "sns.distplot(df[\"Duration.to.accept.offer\"], ax=axes[0])\n",
    "sns.distplot(df[\"Notice.period\"], ax=axes[1])\n"
   ]
  },
  {
   "cell_type": "code",
   "execution_count": 30,
   "metadata": {},
   "outputs": [
    {
     "data": {
      "text/plain": [
       "<matplotlib.axes._subplots.AxesSubplot at 0x1470af9c310>"
      ]
     },
     "execution_count": 30,
     "metadata": {},
     "output_type": "execute_result"
    },
    {
     "data": {
      "image/png": "[encoded data removed]",
      "text/plain": [
       "<Figure size 864x504 with 2 Axes>"
      ]
     },
     "metadata": {
      "needs_background": "light"
     },
     "output_type": "display_data"
    }
   ],
   "source": [
    "fig, axes = plt.subplots(1,2 ,figsize=(12, 7))\n",
    "sns.distplot(df[\"Rex.in.Yrs\"], ax=axes[0])\n",
    "sns.distplot(df[\"Age\"], ax=axes[1])"
   ]
  },
  {
   "cell_type": "code",
   "execution_count": 31,
   "metadata": {},
   "outputs": [
    {
     "data": {
      "text/plain": [
       "<matplotlib.axes._subplots.AxesSubplot at 0x1470aee4ee0>"
      ]
     },
     "execution_count": 31,
     "metadata": {},
     "output_type": "execute_result"
    },
    {
     "data": {
      "image/png": "[encoded data removed]",
      "text/plain": [
       "<Figure size 432x288 with 1 Axes>"
      ]
     },
     "metadata": {
      "needs_background": "light"
     },
     "output_type": "display_data"
    }
   ],
   "source": [
    "sns.boxplot(df['Pecent.hike.expected.in.CTC'])"
   ]
  },
  {
   "cell_type": "code",
   "execution_count": 32,
   "metadata": {},
   "outputs": [
    {
     "data": {
      "text/plain": [
       "<matplotlib.axes._subplots.AxesSubplot at 0x1470a639310>"
      ]
     },
     "execution_count": 32,
     "metadata": {},
     "output_type": "execute_result"
    },
    {
     "data": {
      "image/png": "[encoded data removed]",
      "text/plain": [
       "<Figure size 432x288 with 1 Axes>"
      ]
     },
     "metadata": {
      "needs_background": "light"
     },
     "output_type": "display_data"
    }
   ],
   "source": [
    "sns.boxplot(df['Percent.hike.offered.in.CTC'])"
   ]
  },
  {
   "cell_type": "code",
   "execution_count": 33,
   "metadata": {},
   "outputs": [
    {
     "data": {
      "text/plain": [
       "<matplotlib.axes._subplots.AxesSubplot at 0x1470a6f8af0>"
      ]
     },
     "execution_count": 33,
     "metadata": {},
     "output_type": "execute_result"
    },
    {
     "data": {
      "image/png": "[encoded data removed]",
      "text/plain": [
       "<Figure size 432x288 with 1 Axes>"
      ]
     },
     "metadata": {
      "needs_background": "light"
     },
     "output_type": "display_data"
    }
   ],
   "source": [
    "sns.boxplot(df['Percent.difference.CTC'])"
   ]
  },
  {
   "cell_type": "code",
   "execution_count": 34,
   "metadata": {},
   "outputs": [
    {
     "data": {
      "text/html": [
       "<div>\n",
       "<style scoped>\n",
       "    .dataframe tbody tr th:only-of-type {\n",
       "        vertical-align: middle;\n",
       "    }\n",
       "\n",
       "    .dataframe tbody tr th {\n",
       "        vertical-align: top;\n",
       "    }\n",
       "\n",
       "    .dataframe thead th {\n",
       "        text-align: right;\n",
       "    }\n",
       "</style>\n",
       "<table border=\"1\" class=\"dataframe\">\n",
       "  <thead>\n",
       "    <tr style=\"text-align: right;\">\n",
       "      <th></th>\n",
       "      <th>Duration.to.accept.offer</th>\n",
       "      <th>Notice.period</th>\n",
       "      <th>Percent.hike.offered.in.CTC</th>\n",
       "      <th>Percent.difference.CTC</th>\n",
       "      <th>Rex.in.Yrs</th>\n",
       "      <th>Age</th>\n",
       "    </tr>\n",
       "    <tr>\n",
       "      <th>Status</th>\n",
       "      <th></th>\n",
       "      <th></th>\n",
       "      <th></th>\n",
       "      <th></th>\n",
       "      <th></th>\n",
       "      <th></th>\n",
       "    </tr>\n",
       "  </thead>\n",
       "  <tbody>\n",
       "    <tr>\n",
       "      <th>0</th>\n",
       "      <td>24.956599</td>\n",
       "      <td>48.192628</td>\n",
       "      <td>38.588460</td>\n",
       "      <td>-2.929298</td>\n",
       "      <td>4.439358</td>\n",
       "      <td>29.517836</td>\n",
       "    </tr>\n",
       "    <tr>\n",
       "      <th>1</th>\n",
       "      <td>20.617687</td>\n",
       "      <td>37.233461</td>\n",
       "      <td>41.147158</td>\n",
       "      <td>-1.263402</td>\n",
       "      <td>4.193002</td>\n",
       "      <td>30.004647</td>\n",
       "    </tr>\n",
       "  </tbody>\n",
       "</table>\n",
       "</div>"
      ],
      "text/plain": [
       "        Duration.to.accept.offer  Notice.period  Percent.hike.offered.in.CTC  \\\n",
       "Status                                                                         \n",
       "0                      24.956599      48.192628                    38.588460   \n",
       "1                      20.617687      37.233461                    41.147158   \n",
       "\n",
       "        Percent.difference.CTC  Rex.in.Yrs        Age  \n",
       "Status                                                 \n",
       "0                    -2.929298    4.439358  29.517836  \n",
       "1                    -1.263402    4.193002  30.004647  "
      ]
     },
     "execution_count": 34,
     "metadata": {},
     "output_type": "execute_result"
    }
   ],
   "source": [
    "df[['Duration.to.accept.offer','Notice.period','Percent.hike.offered.in.CTC','Percent.difference.CTC','Rex.in.Yrs','Age','Status']].groupby('Status').mean()\n"
   ]
  },
  {
   "cell_type": "code",
   "execution_count": 35,
   "metadata": {},
   "outputs": [],
   "source": [
    "df.drop(['Candidate.Ref','Gender','DOJ.Extended','Joining.Bonus'], axis=1, inplace=True)"
   ]
  },
  {
   "cell_type": "code",
   "execution_count": 36,
   "metadata": {},
   "outputs": [
    {
     "data": {
      "text/html": [
       "<div>\n",
       "<style scoped>\n",
       "    .dataframe tbody tr th:only-of-type {\n",
       "        vertical-align: middle;\n",
       "    }\n",
       "\n",
       "    .dataframe tbody tr th {\n",
       "        vertical-align: top;\n",
       "    }\n",
       "\n",
       "    .dataframe thead th {\n",
       "        text-align: right;\n",
       "    }\n",
       "</style>\n",
       "<table border=\"1\" class=\"dataframe\">\n",
       "  <thead>\n",
       "    <tr style=\"text-align: right;\">\n",
       "      <th></th>\n",
       "      <th>SLNO</th>\n",
       "      <th>Duration.to.accept.offer</th>\n",
       "      <th>Notice.period</th>\n",
       "      <th>Offered.band</th>\n",
       "      <th>Pecent.hike.expected.in.CTC</th>\n",
       "      <th>Percent.hike.offered.in.CTC</th>\n",
       "      <th>Percent.difference.CTC</th>\n",
       "      <th>Candidate.relocate.actual</th>\n",
       "      <th>Candidate.Source</th>\n",
       "      <th>Rex.in.Yrs</th>\n",
       "      <th>LOB</th>\n",
       "      <th>Location</th>\n",
       "      <th>Age</th>\n",
       "      <th>Status</th>\n",
       "    </tr>\n",
       "  </thead>\n",
       "  <tbody>\n",
       "    <tr>\n",
       "      <th>0</th>\n",
       "      <td>1</td>\n",
       "      <td>14</td>\n",
       "      <td>30</td>\n",
       "      <td>E2</td>\n",
       "      <td>-20.79</td>\n",
       "      <td>13.16</td>\n",
       "      <td>42.86</td>\n",
       "      <td>No</td>\n",
       "      <td>Agency</td>\n",
       "      <td>7</td>\n",
       "      <td>ERS</td>\n",
       "      <td>Noida</td>\n",
       "      <td>34</td>\n",
       "      <td>1</td>\n",
       "    </tr>\n",
       "    <tr>\n",
       "      <th>1</th>\n",
       "      <td>2</td>\n",
       "      <td>18</td>\n",
       "      <td>30</td>\n",
       "      <td>E2</td>\n",
       "      <td>50.00</td>\n",
       "      <td>320.00</td>\n",
       "      <td>180.00</td>\n",
       "      <td>No</td>\n",
       "      <td>Employee Referral</td>\n",
       "      <td>8</td>\n",
       "      <td>INFRA</td>\n",
       "      <td>Chennai</td>\n",
       "      <td>34</td>\n",
       "      <td>1</td>\n",
       "    </tr>\n",
       "    <tr>\n",
       "      <th>2</th>\n",
       "      <td>3</td>\n",
       "      <td>3</td>\n",
       "      <td>45</td>\n",
       "      <td>E2</td>\n",
       "      <td>42.84</td>\n",
       "      <td>42.84</td>\n",
       "      <td>0.00</td>\n",
       "      <td>No</td>\n",
       "      <td>Agency</td>\n",
       "      <td>4</td>\n",
       "      <td>INFRA</td>\n",
       "      <td>Noida</td>\n",
       "      <td>27</td>\n",
       "      <td>1</td>\n",
       "    </tr>\n",
       "    <tr>\n",
       "      <th>3</th>\n",
       "      <td>4</td>\n",
       "      <td>26</td>\n",
       "      <td>30</td>\n",
       "      <td>E2</td>\n",
       "      <td>42.84</td>\n",
       "      <td>42.84</td>\n",
       "      <td>0.00</td>\n",
       "      <td>No</td>\n",
       "      <td>Employee Referral</td>\n",
       "      <td>4</td>\n",
       "      <td>INFRA</td>\n",
       "      <td>Noida</td>\n",
       "      <td>34</td>\n",
       "      <td>1</td>\n",
       "    </tr>\n",
       "    <tr>\n",
       "      <th>4</th>\n",
       "      <td>5</td>\n",
       "      <td>1</td>\n",
       "      <td>120</td>\n",
       "      <td>E2</td>\n",
       "      <td>42.59</td>\n",
       "      <td>42.59</td>\n",
       "      <td>0.00</td>\n",
       "      <td>Yes</td>\n",
       "      <td>Employee Referral</td>\n",
       "      <td>6</td>\n",
       "      <td>INFRA</td>\n",
       "      <td>Noida</td>\n",
       "      <td>34</td>\n",
       "      <td>1</td>\n",
       "    </tr>\n",
       "    <tr>\n",
       "      <th>...</th>\n",
       "      <td>...</td>\n",
       "      <td>...</td>\n",
       "      <td>...</td>\n",
       "      <td>...</td>\n",
       "      <td>...</td>\n",
       "      <td>...</td>\n",
       "      <td>...</td>\n",
       "      <td>...</td>\n",
       "      <td>...</td>\n",
       "      <td>...</td>\n",
       "      <td>...</td>\n",
       "      <td>...</td>\n",
       "      <td>...</td>\n",
       "      <td>...</td>\n",
       "    </tr>\n",
       "    <tr>\n",
       "      <th>8993</th>\n",
       "      <td>12332</td>\n",
       "      <td>0</td>\n",
       "      <td>30</td>\n",
       "      <td>E1</td>\n",
       "      <td>76.92</td>\n",
       "      <td>53.85</td>\n",
       "      <td>-13.04</td>\n",
       "      <td>No</td>\n",
       "      <td>Direct</td>\n",
       "      <td>4</td>\n",
       "      <td>INFRA</td>\n",
       "      <td>Noida</td>\n",
       "      <td>34</td>\n",
       "      <td>1</td>\n",
       "    </tr>\n",
       "    <tr>\n",
       "      <th>8994</th>\n",
       "      <td>12333</td>\n",
       "      <td>2</td>\n",
       "      <td>0</td>\n",
       "      <td>E1</td>\n",
       "      <td>45.25</td>\n",
       "      <td>14.09</td>\n",
       "      <td>-21.45</td>\n",
       "      <td>No</td>\n",
       "      <td>Employee Referral</td>\n",
       "      <td>1</td>\n",
       "      <td>INFRA</td>\n",
       "      <td>Chennai</td>\n",
       "      <td>34</td>\n",
       "      <td>1</td>\n",
       "    </tr>\n",
       "    <tr>\n",
       "      <th>8995</th>\n",
       "      <td>12319</td>\n",
       "      <td>4</td>\n",
       "      <td>0</td>\n",
       "      <td>E1</td>\n",
       "      <td>191.67</td>\n",
       "      <td>191.67</td>\n",
       "      <td>0.00</td>\n",
       "      <td>No</td>\n",
       "      <td>Employee Referral</td>\n",
       "      <td>1</td>\n",
       "      <td>ERS</td>\n",
       "      <td>Chennai</td>\n",
       "      <td>34</td>\n",
       "      <td>1</td>\n",
       "    </tr>\n",
       "    <tr>\n",
       "      <th>8996</th>\n",
       "      <td>11882</td>\n",
       "      <td>5</td>\n",
       "      <td>0</td>\n",
       "      <td>E2</td>\n",
       "      <td>20.00</td>\n",
       "      <td>10.00</td>\n",
       "      <td>-8.33</td>\n",
       "      <td>No</td>\n",
       "      <td>Direct</td>\n",
       "      <td>8</td>\n",
       "      <td>ETS</td>\n",
       "      <td>Noida</td>\n",
       "      <td>34</td>\n",
       "      <td>1</td>\n",
       "    </tr>\n",
       "    <tr>\n",
       "      <th>8997</th>\n",
       "      <td>5080</td>\n",
       "      <td>4</td>\n",
       "      <td>30</td>\n",
       "      <td>E1</td>\n",
       "      <td>30.95</td>\n",
       "      <td>23.81</td>\n",
       "      <td>-5.45</td>\n",
       "      <td>No</td>\n",
       "      <td>Direct</td>\n",
       "      <td>4</td>\n",
       "      <td>ETS</td>\n",
       "      <td>Bangalore</td>\n",
       "      <td>26</td>\n",
       "      <td>1</td>\n",
       "    </tr>\n",
       "  </tbody>\n",
       "</table>\n",
       "<p>8998 rows × 14 columns</p>\n",
       "</div>"
      ],
      "text/plain": [
       "       SLNO  Duration.to.accept.offer  Notice.period Offered.band  \\\n",
       "0         1                        14             30           E2   \n",
       "1         2                        18             30           E2   \n",
       "2         3                         3             45           E2   \n",
       "3         4                        26             30           E2   \n",
       "4         5                         1            120           E2   \n",
       "...     ...                       ...            ...          ...   \n",
       "8993  12332                         0             30           E1   \n",
       "8994  12333                         2              0           E1   \n",
       "8995  12319                         4              0           E1   \n",
       "8996  11882                         5              0           E2   \n",
       "8997   5080                         4             30           E1   \n",
       "\n",
       "      Pecent.hike.expected.in.CTC  Percent.hike.offered.in.CTC  \\\n",
       "0                          -20.79                        13.16   \n",
       "1                           50.00                       320.00   \n",
       "2                           42.84                        42.84   \n",
       "3                           42.84                        42.84   \n",
       "4                           42.59                        42.59   \n",
       "...                           ...                          ...   \n",
       "8993                        76.92                        53.85   \n",
       "8994                        45.25                        14.09   \n",
       "8995                       191.67                       191.67   \n",
       "8996                        20.00                        10.00   \n",
       "8997                        30.95                        23.81   \n",
       "\n",
       "      Percent.difference.CTC Candidate.relocate.actual   Candidate.Source  \\\n",
       "0                      42.86                        No             Agency   \n",
       "1                     180.00                        No  Employee Referral   \n",
       "2                       0.00                        No             Agency   \n",
       "3                       0.00                        No  Employee Referral   \n",
       "4                       0.00                       Yes  Employee Referral   \n",
       "...                      ...                       ...                ...   \n",
       "8993                  -13.04                        No             Direct   \n",
       "8994                  -21.45                        No  Employee Referral   \n",
       "8995                    0.00                        No  Employee Referral   \n",
       "8996                   -8.33                        No             Direct   \n",
       "8997                   -5.45                        No             Direct   \n",
       "\n",
       "      Rex.in.Yrs    LOB   Location  Age  Status  \n",
       "0              7    ERS      Noida   34       1  \n",
       "1              8  INFRA    Chennai   34       1  \n",
       "2              4  INFRA      Noida   27       1  \n",
       "3              4  INFRA      Noida   34       1  \n",
       "4              6  INFRA      Noida   34       1  \n",
       "...          ...    ...        ...  ...     ...  \n",
       "8993           4  INFRA      Noida   34       1  \n",
       "8994           1  INFRA    Chennai   34       1  \n",
       "8995           1    ERS    Chennai   34       1  \n",
       "8996           8    ETS      Noida   34       1  \n",
       "8997           4    ETS  Bangalore   26       1  \n",
       "\n",
       "[8998 rows x 14 columns]"
      ]
     },
     "execution_count": 36,
     "metadata": {},
     "output_type": "execute_result"
    }
   ],
   "source": [
    "df"
   ]
  },
  {
   "cell_type": "markdown",
   "metadata": {},
   "source": [
    "# Data Preprocessing"
   ]
  },
  {
   "cell_type": "markdown",
   "metadata": {},
   "source": [
    "Categorical features need to be converted to numbers so that they can be included in calculations done by a machine learning model. The categorical variables in our data set are not ordinal (i.e. there is no order in them).\n",
    "We also need to scale continuous variables. Otherwise, variables with higher values will be given more importance which effects the accuracy of the model."
   ]
  },
  {
   "cell_type": "code",
   "execution_count": 37,
   "metadata": {},
   "outputs": [],
   "source": [
    "from sklearn.preprocessing import LabelEncoder, OneHotEncoder\n",
    "from sklearn.preprocessing import MinMaxScaler"
   ]
  },
  {
   "cell_type": "code",
   "execution_count": 38,
   "metadata": {},
   "outputs": [],
   "source": [
    "cat_features = ['Candidate.Source','LOB','Candidate.relocate.actual','Location','Offered.band']\n",
    "X = pd.get_dummies(df, columns=cat_features, drop_first=True)"
   ]
  },
  {
   "cell_type": "code",
   "execution_count": 39,
   "metadata": {},
   "outputs": [],
   "source": [
    "sc = MinMaxScaler()\n",
    "a = sc.fit_transform(df[['Notice.period']])\n",
    "b = sc.fit_transform(df[['Duration.to.accept.offer']])"
   ]
  },
  {
   "cell_type": "code",
   "execution_count": 40,
   "metadata": {},
   "outputs": [],
   "source": [
    "X['Notice.period'] = a\n",
    "X['Duration.to.accept.offer'] = b"
   ]
  },
  {
   "cell_type": "code",
   "execution_count": 41,
   "metadata": {},
   "outputs": [
    {
     "data": {
      "text/plain": [
       "(8998, 33)"
      ]
     },
     "execution_count": 41,
     "metadata": {},
     "output_type": "execute_result"
    }
   ],
   "source": [
    "X.shape"
   ]
  },
  {
   "cell_type": "markdown",
   "metadata": {},
   "source": [
    "# Resampling"
   ]
  },
  {
   "cell_type": "markdown",
   "metadata": {},
   "source": [
    "As we briefly discussed in the beginning, target variables with imbalanced class distribution is not desired for machine learning models. I will use upsampling which means increasing the number of samples of the class with less samples by randomly selecting rows from it."
   ]
  },
  {
   "cell_type": "code",
   "execution_count": 42,
   "metadata": {},
   "outputs": [
    {
     "data": {
      "text/plain": [
       "Text(0.5, 1.0, 'Class Distribution Before Resampling')"
      ]
     },
     "execution_count": 42,
     "metadata": {},
     "output_type": "execute_result"
    },
    {
     "data": {
      "image/png": "[encoded data removed]",
      "text/plain": [
       "<Figure size 432x288 with 1 Axes>"
      ]
     },
     "metadata": {
      "needs_background": "light"
     },
     "output_type": "display_data"
    }
   ],
   "source": [
    "sns.countplot('Status', data=df).set_title('Class Distribution Before Resampling')"
   ]
  },
  {
   "cell_type": "markdown",
   "metadata": {},
   "source": [
    "here 0 means Not Joined and 1 means Joined"
   ]
  },
  {
   "cell_type": "code",
   "execution_count": 43,
   "metadata": {},
   "outputs": [],
   "source": [
    "X_no = X[X.Status == 0]\n",
    "X_yes = X[X.Status == 1]"
   ]
  },
  {
   "cell_type": "code",
   "execution_count": 44,
   "metadata": {},
   "outputs": [
    {
     "name": "stdout",
     "output_type": "stream",
     "text": [
      "1682 7316\n"
     ]
    }
   ],
   "source": [
    "print(len(X_no),len(X_yes))"
   ]
  },
  {
   "cell_type": "code",
   "execution_count": 45,
   "metadata": {},
   "outputs": [
    {
     "name": "stdout",
     "output_type": "stream",
     "text": [
      "7316\n"
     ]
    }
   ],
   "source": [
    "X_no_upsampled = X_no.sample(n=len(X_yes), replace=True, random_state=42)\n",
    "print(len(X_no_upsampled))"
   ]
  },
  {
   "cell_type": "code",
   "execution_count": 46,
   "metadata": {},
   "outputs": [],
   "source": [
    "X_upsampled = X_yes.append(X_no_upsampled).reset_index(drop=True)"
   ]
  },
  {
   "cell_type": "code",
   "execution_count": 47,
   "metadata": {},
   "outputs": [
    {
     "data": {
      "text/plain": [
       "Text(0.5, 1.0, 'Class Distribution After Resampling')"
      ]
     },
     "execution_count": 47,
     "metadata": {},
     "output_type": "execute_result"
    },
    {
     "data": {
      "image/png": "[encoded data removed]",
      "text/plain": [
       "<Figure size 432x288 with 1 Axes>"
      ]
     },
     "metadata": {
      "needs_background": "light"
     },
     "output_type": "display_data"
    }
   ],
   "source": [
    "sns.countplot('Status', data=X_upsampled).set_title('Class Distribution After Resampling')"
   ]
  },
  {
   "cell_type": "markdown",
   "metadata": {},
   "source": [
    "# ML Model"
   ]
  },
  {
   "cell_type": "markdown",
   "metadata": {},
   "source": [
    "We need to divide the data set into training and test subsets so that we are able to measure the performance of our model on new, previously unseen examples."
   ]
  },
  {
   "cell_type": "code",
   "execution_count": 48,
   "metadata": {},
   "outputs": [],
   "source": [
    "from sklearn.model_selection import train_test_split"
   ]
  },
  {
   "cell_type": "code",
   "execution_count": 49,
   "metadata": {},
   "outputs": [],
   "source": [
    "X = X_upsampled.drop(['Status'], axis=1) #features (independent variables)\n",
    "y = X_upsampled['Status'] #target (dependent variable)"
   ]
  },
  {
   "cell_type": "code",
   "execution_count": 50,
   "metadata": {},
   "outputs": [],
   "source": [
    "X_train, X_test, y_train, y_test = train_test_split(X, y, test_size = 0.2, random_state=42)"
   ]
  },
  {
   "cell_type": "markdown",
   "metadata": {},
   "source": [
    "# Ridge Classifier"
   ]
  },
  {
   "cell_type": "markdown",
   "metadata": {},
   "source": [
    "I have decided to use ridge classifier as a base model. Then I will try a model that I think will perform better."
   ]
  },
  {
   "cell_type": "code",
   "execution_count": 51,
   "metadata": {},
   "outputs": [],
   "source": [
    "from sklearn.linear_model import RidgeClassifier\n",
    "from sklearn.metrics import accuracy_score\n",
    "from sklearn.metrics import confusion_matrix\n"
   ]
  },
  {
   "cell_type": "code",
   "execution_count": 52,
   "metadata": {},
   "outputs": [
    {
     "data": {
      "text/plain": [
       "RidgeClassifier()"
      ]
     },
     "execution_count": 52,
     "metadata": {},
     "output_type": "execute_result"
    }
   ],
   "source": [
    "clf_ridge = RidgeClassifier()\n",
    "clf_ridge.fit(X_train, y_train) "
   ]
  },
  {
   "cell_type": "code",
   "execution_count": 53,
   "metadata": {},
   "outputs": [],
   "source": [
    "pred = clf_ridge.predict(X_train)"
   ]
  },
  {
   "cell_type": "code",
   "execution_count": 54,
   "metadata": {},
   "outputs": [
    {
     "data": {
      "text/plain": [
       "0.6733020076890218"
      ]
     },
     "execution_count": 54,
     "metadata": {},
     "output_type": "execute_result"
    }
   ],
   "source": [
    "accuracy_score(y_train, pred) "
   ]
  },
  {
   "cell_type": "code",
   "execution_count": 55,
   "metadata": {},
   "outputs": [
    {
     "data": {
      "text/plain": [
       "array([[4494, 1353],\n",
       "       [2471, 3387]], dtype=int64)"
      ]
     },
     "execution_count": 55,
     "metadata": {},
     "output_type": "execute_result"
    }
   ],
   "source": [
    "confusion_matrix(y_train, pred)"
   ]
  },
  {
   "cell_type": "code",
   "execution_count": 56,
   "metadata": {},
   "outputs": [],
   "source": [
    "pred_test = clf_ridge.predict(X_test)"
   ]
  },
  {
   "cell_type": "code",
   "execution_count": 57,
   "metadata": {},
   "outputs": [
    {
     "data": {
      "text/plain": [
       "0.6771438332763922"
      ]
     },
     "execution_count": 57,
     "metadata": {},
     "output_type": "execute_result"
    }
   ],
   "source": [
    "accuracy_score(y_test, pred_test)"
   ]
  },
  {
   "cell_type": "markdown",
   "metadata": {},
   "source": [
    "# Random Forests"
   ]
  },
  {
   "cell_type": "code",
   "execution_count": 58,
   "metadata": {},
   "outputs": [],
   "source": [
    "from sklearn.ensemble import RandomForestClassifier"
   ]
  },
  {
   "cell_type": "code",
   "execution_count": 59,
   "metadata": {},
   "outputs": [],
   "source": [
    "clf_forest = RandomForestClassifier(n_estimators=100, max_depth=10)"
   ]
  },
  {
   "cell_type": "code",
   "execution_count": 60,
   "metadata": {},
   "outputs": [
    {
     "data": {
      "text/plain": [
       "RandomForestClassifier(max_depth=10)"
      ]
     },
     "execution_count": 60,
     "metadata": {},
     "output_type": "execute_result"
    }
   ],
   "source": [
    "clf_forest.fit(X_train, y_train)"
   ]
  },
  {
   "cell_type": "code",
   "execution_count": 61,
   "metadata": {},
   "outputs": [],
   "source": [
    "pred = clf_forest.predict(X_train)"
   ]
  },
  {
   "cell_type": "code",
   "execution_count": 62,
   "metadata": {},
   "outputs": [
    {
     "data": {
      "text/plain": [
       "0.8311832550192225"
      ]
     },
     "execution_count": 62,
     "metadata": {},
     "output_type": "execute_result"
    }
   ],
   "source": [
    "accuracy_score(y_train, pred)"
   ]
  },
  {
   "cell_type": "code",
   "execution_count": 63,
   "metadata": {},
   "outputs": [
    {
     "data": {
      "text/plain": [
       "array([[5177,  670],\n",
       "       [1306, 4552]], dtype=int64)"
      ]
     },
     "execution_count": 63,
     "metadata": {},
     "output_type": "execute_result"
    }
   ],
   "source": [
    "confusion_matrix(y_train, pred)"
   ]
  },
  {
   "cell_type": "code",
   "execution_count": 64,
   "metadata": {},
   "outputs": [],
   "source": [
    "pred_test = clf_forest.predict(X_test)"
   ]
  },
  {
   "cell_type": "code",
   "execution_count": 65,
   "metadata": {},
   "outputs": [
    {
     "data": {
      "text/plain": [
       "0.790570550051247"
      ]
     },
     "execution_count": 65,
     "metadata": {},
     "output_type": "execute_result"
    }
   ],
   "source": [
    "accuracy_score(y_test, pred_test)"
   ]
  },
  {
   "cell_type": "markdown",
   "metadata": {},
   "source": [
    "In Ridge Classifier ,there is an accuracy of nearly 68 % while In Random Forest ,there is an accuracy of nearly 80 % which is quite good."
   ]
  },
  {
   "cell_type": "markdown",
   "metadata": {},
   "source": [
    "Also we can try for another classification model in order to get better accuracy as much as we can."
   ]
  },
  {
   "cell_type": "markdown",
   "metadata": {},
   "source": [
    "# Finished !!!!"
   ]
  }
 ],
 "metadata": {
  "kernelspec": {
   "display_name": "Python 3",
   "language": "python",
   "name": "python3"
  },
  "language_info": {
   "codemirror_mode": {
    "name": "ipython",
    "version": 3
   },
   "file_extension": ".py",
   "mimetype": "text/x-python",
   "name": "python",
   "nbconvert_exporter": "python",
   "pygments_lexer": "ipython3",
   "version": "3.8.3"
  }
 },
 "nbformat": 4,
 "nbformat_minor": 4
}
